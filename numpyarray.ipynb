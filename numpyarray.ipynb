{
 "cells": [
  {
   "cell_type": "markdown",
   "id": "d143cab0-3e74-4c97-8f28-a053ad36c4fa",
   "metadata": {},
   "source": [
    "### Importing Libraries"
   ]
  },
  {
   "cell_type": "code",
   "execution_count": 7,
   "id": "3b11d32d-36c7-4574-a8bf-190325d23709",
   "metadata": {},
   "outputs": [],
   "source": [
    "import numpy as np\n"
   ]
  },
  {
   "cell_type": "markdown",
   "id": "bb7d4c2c-0940-4867-90b4-b9763f8ebcae",
   "metadata": {},
   "source": [
    "### Create a NumPy array of random numbers"
   ]
  },
  {
   "cell_type": "markdown",
   "id": "3f776ddf-c197-4241-a73d-c8e34784d93e",
   "metadata": {},
   "source": [
    "\n",
    "arr = np.random.rand(3, 4)\n",
    "print(\"Original Array:\")\n",
    "print(arr)\n"
   ]
  },
  {
   "cell_type": "markdown",
   "id": "df9aaf60-833f-41b2-a699-029e403f4056",
   "metadata": {},
   "source": [
    "### Calculate the mean, median, and standard deviation"
   ]
  },
  {
   "cell_type": "code",
   "execution_count": 8,
   "id": "bd07fbc1-88de-448d-9007-77694b3f3d13",
   "metadata": {},
   "outputs": [
    {
     "name": "stdout",
     "output_type": "stream",
     "text": [
      "\n",
      "Mean: 0.5124596745840347\n",
      "Median: 0.5199849951647827\n",
      "Standard Deviation: 0.2507898427275767\n"
     ]
    }
   ],
   "source": [
    "\n",
    "mean = np.mean(arr)\n",
    "median = np.median(arr)\n",
    "std_dev = np.std(arr)\n",
    "print(\"\\nMean:\", mean)\n",
    "print(\"Median:\", median)\n",
    "print(\"Standard Deviation:\", std_dev)"
   ]
  },
  {
   "cell_type": "markdown",
   "id": "149f11b9-b155-4fbf-895d-c4073b52da16",
   "metadata": {},
   "source": [
    "### Perform element-wise operations"
   ]
  },
  {
   "cell_type": "code",
   "execution_count": 9,
   "id": "7882e344-7e87-4e95-88b0-28505f93d6d4",
   "metadata": {},
   "outputs": [
    {
     "name": "stdout",
     "output_type": "stream",
     "text": [
      "\n",
      "Element-wise Addition:\n",
      "[[2.0198952  2.44800551 2.49542107 2.14860708]\n",
      " [2.54454892 2.54979307 2.93479551 2.72937976]\n",
      " [2.86788087 2.43229826 2.40686622 2.57202462]]\n",
      "\n",
      "Element-wise Multiplication:\n",
      "[[0.03979041 0.89601102 0.99084214 0.29721416]\n",
      " [1.08909784 1.09958614 1.86959102 1.45875951]\n",
      " [1.73576174 0.86459653 0.81373243 1.14404925]]\n"
     ]
    }
   ],
   "source": [
    "\n",
    "arr_add = arr + 2  # addition\n",
    "arr_mul = arr * 2  # multiplication\n",
    "print(\"\\nElement-wise Addition:\")\n",
    "print(arr_add)\n",
    "print(\"\\nElement-wise Multiplication:\")\n",
    "print(arr_mul)"
   ]
  },
  {
   "cell_type": "markdown",
   "id": "bd4a899b-d222-44d9-87c5-135f418f978a",
   "metadata": {},
   "source": [
    "### Reshape the array"
   ]
  },
  {
   "cell_type": "code",
   "execution_count": 10,
   "id": "c5dfd66a-c3db-4cf1-8f7b-21e1e8388d11",
   "metadata": {},
   "outputs": [
    {
     "name": "stdout",
     "output_type": "stream",
     "text": [
      "\n",
      "Reshaped Array:\n",
      "[[0.0198952  0.44800551 0.49542107]\n",
      " [0.14860708 0.54454892 0.54979307]\n",
      " [0.93479551 0.72937976 0.86788087]\n",
      " [0.43229826 0.40686622 0.57202462]]\n"
     ]
    }
   ],
   "source": [
    "\n",
    "arr_reshaped = arr.reshape(4, 3)\n",
    "print(\"\\nReshaped Array:\")\n",
    "print(arr_reshaped)\n"
   ]
  },
  {
   "cell_type": "markdown",
   "id": "08e3301d-95e8-4c69-9f00-ba426d0de9f1",
   "metadata": {},
   "source": [
    "### Perform matrix multiplication"
   ]
  },
  {
   "cell_type": "code",
   "execution_count": 11,
   "id": "a5eeee6f-2b5b-4462-bbc7-c2051dd19e10",
   "metadata": {},
   "outputs": [
    {
     "name": "stdout",
     "output_type": "stream",
     "text": [
      "\n",
      "Matrix Multiplication:\n",
      "[[0.59433258 0.67468738 0.77114021]\n",
      " [1.2816893  1.52193104 1.80056775]\n",
      " [0.70913121 1.15372044 1.34796463]]\n"
     ]
    }
   ],
   "source": [
    "\n",
    "mat_mul = np.dot(arr, arr_reshaped)\n",
    "print(\"\\nMatrix Multiplication:\")\n",
    "print(mat_mul)"
   ]
  },
  {
   "cell_type": "code",
   "execution_count": null,
   "id": "c0338098-b887-476e-81fb-5454ca888e55",
   "metadata": {},
   "outputs": [],
   "source": []
  }
 ],
 "metadata": {
  "kernelspec": {
   "display_name": "Python 3 (ipykernel)",
   "language": "python",
   "name": "python3"
  },
  "language_info": {
   "codemirror_mode": {
    "name": "ipython",
    "version": 3
   },
   "file_extension": ".py",
   "mimetype": "text/x-python",
   "name": "python",
   "nbconvert_exporter": "python",
   "pygments_lexer": "ipython3",
   "version": "3.12.5"
  }
 },
 "nbformat": 4,
 "nbformat_minor": 5
}
