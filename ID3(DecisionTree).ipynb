{
 "cells": [
  {
   "cell_type": "code",
   "execution_count": 60,
   "metadata": {},
   "outputs": [],
   "source": [
    "import numpy as np\n",
    "import pandas as pd\n",
    "import graphviz\n"
   ]
  },
  {
   "cell_type": "code",
   "execution_count": 61,
   "metadata": {},
   "outputs": [
    {
     "name": "stdout",
     "output_type": "stream",
     "text": [
      "Decision Tree: {'Outlook': {'Overcast': 'Yes', 'Rain': {'Wind': {'Strong': 'No', 'Weak': 'Yes'}}, 'Sunny': {'Humidity': {'High': 'No', 'Normal': 'Yes'}}}}\n"
     ]
    }
   ],
   "source": [
    "\n",
    "data = pd.read_csv(r\"C:\\Users\\admin\\Downloads\\PlayTennis.csv\")\n",
    "\n",
    "def entropy(data, label):\n",
    "    total = len(data)\n",
    "    return -sum((count / total) * np.log2(count / total)\n",
    "                for count in data[label].value_counts() if count > 0)\n",
    "\n",
    "def info_gain(feature, data, label):\n",
    "    total = len(data)\n",
    "    return entropy(data, label) - sum(\n",
    "        (len(sub) / total) * entropy(sub, label) \n",
    "        for val, sub in data.groupby(feature)\n",
    "    )\n",
    "\n",
    "def best_feature(data, label):\n",
    "    return max(data.columns.drop(label), key=lambda f: info_gain(f, data, label))\n",
    "\n",
    "def build_tree(data, label):\n",
    "    if len(data[label].unique()) == 1:\n",
    "        return data[label].iloc[0]\n",
    "    \n",
    "    if data.empty:\n",
    "        return \"?\"\n",
    "\n",
    "    feature = best_feature(data, label)\n",
    "    tree = {feature: {}}\n",
    "\n",
    "    for val, sub_data in data.groupby(feature):\n",
    "        tree[feature][val] = build_tree(sub_data.drop(feature, axis=1), label)\n",
    "    \n",
    "    return tree\n",
    "\n",
    "def predict(tree, instance):\n",
    "    if not isinstance(tree, dict):\n",
    "        return tree\n",
    "    root = next(iter(tree))\n",
    "    return predict(tree[root][instance[root]], instance) if instance[root] in tree[root] else None\n",
    "\n",
    "def evaluate(tree, data, label):\n",
    "    correct = sum(predict(tree, row) == row[label] for _, row in data.iterrows())\n",
    "    return correct / len(data) if len(data) > 0 else 0\n",
    "\n",
    "# Create the decision tree and evaluate it\n",
    "tree = build_tree(data, 'Play Tennis')\n",
    "accuracy = evaluate(tree, data, 'Play Tennis')\n",
    "\n",
    "print(\"Decision Tree:\", tree)\n",
    "\n"
   ]
  },
  {
   "cell_type": "code",
   "execution_count": 64,
   "metadata": {},
   "outputs": [
    {
     "data": {
      "text/plain": [
       "'decision_tree.png'"
      ]
     },
     "execution_count": 64,
     "metadata": {},
     "output_type": "execute_result"
    }
   ],
   "source": [
    "def add_nodes_edges(tree, parent='Root'):\n",
    "    for key, value in tree.items():\n",
    "        node_id = key if parent == 'Root' else f\"{parent}_{key}\"\n",
    "        dot.node(node_id, key)\n",
    "        if parent:\n",
    "            dot.edge(parent, node_id)\n",
    "        if isinstance(value, dict):\n",
    "            add_nodes_edges(value, node_id)\n",
    "        else:\n",
    "            dot.node(f\"{node_id}_leaf\", value)\n",
    "            dot.edge(node_id, f\"{node_id}_leaf\")\n",
    "dot = graphviz.Digraph()\n",
    "add_nodes_edges(tree)\n",
    "dot.render('decision_tree', format='png', cleanup=True)\n"
   ]
  },
  {
   "cell_type": "code",
   "execution_count": null,
   "metadata": {},
   "outputs": [],
   "source": []
  },
  {
   "cell_type": "code",
   "execution_count": null,
   "metadata": {},
   "outputs": [],
   "source": []
  }
 ],
 "metadata": {
  "kernelspec": {
   "display_name": "Python 3",
   "language": "python",
   "name": "python3"
  },
  "language_info": {
   "codemirror_mode": {
    "name": "ipython",
    "version": 3
   },
   "file_extension": ".py",
   "mimetype": "text/x-python",
   "name": "python",
   "nbconvert_exporter": "python",
   "pygments_lexer": "ipython3",
   "version": "3.8.5"
  }
 },
 "nbformat": 4,
 "nbformat_minor": 4
}
